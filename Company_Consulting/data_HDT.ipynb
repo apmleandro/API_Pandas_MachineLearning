{
 "cells": [
  {
   "cell_type": "code",
   "execution_count": 14,
   "metadata": {},
   "outputs": [],
   "source": [
    "import numpy as np\n",
    "import pandas as pd\n",
    "import matplotlib.pyplot as plt\n",
    "import seaborn as sns\n",
    "sns.set()\n",
    "from sklearn.linear_model import LinearRegression\n",
    "from sklearn.preprocessing import StandardScaler\n",
    "pd.set_option('display.max_rows', 500)\n",
    "from sklearn.model_selection import train_test_split"
   ]
  },
  {
   "cell_type": "code",
   "execution_count": 3,
   "metadata": {},
   "outputs": [],
   "source": [
    "data = pd.read_csv('treated_data2.csv')"
   ]
  },
  {
   "cell_type": "code",
   "execution_count": 5,
   "metadata": {},
   "outputs": [],
   "source": [
    "data.drop(columns='Unnamed: 0', axis=1, inplace=True)"
   ]
  },
  {
   "cell_type": "code",
   "execution_count": 7,
   "metadata": {},
   "outputs": [
    {
     "data": {
      "text/html": [
       "<div>\n",
       "<style scoped>\n",
       "    .dataframe tbody tr th:only-of-type {\n",
       "        vertical-align: middle;\n",
       "    }\n",
       "\n",
       "    .dataframe tbody tr th {\n",
       "        vertical-align: top;\n",
       "    }\n",
       "\n",
       "    .dataframe thead th {\n",
       "        text-align: right;\n",
       "    }\n",
       "</style>\n",
       "<table border=\"1\" class=\"dataframe\">\n",
       "  <thead>\n",
       "    <tr style=\"text-align: right;\">\n",
       "      <th></th>\n",
       "      <th>A</th>\n",
       "      <th>B</th>\n",
       "      <th>C</th>\n",
       "      <th>D</th>\n",
       "      <th>E</th>\n",
       "      <th>F</th>\n",
       "      <th>HDT_0.455©</th>\n",
       "      <th>UTS(Mpa)</th>\n",
       "      <th>Modulus(Gpa)</th>\n",
       "      <th>EAB%</th>\n",
       "      <th>Viscosity_75C(cp)</th>\n",
       "      <th>R value</th>\n",
       "      <th>log_HDT</th>\n",
       "      <th>log_viscosity</th>\n",
       "    </tr>\n",
       "  </thead>\n",
       "  <tbody>\n",
       "    <tr>\n",
       "      <th>0</th>\n",
       "      <td>48.150777</td>\n",
       "      <td>6.489743</td>\n",
       "      <td>6.891947</td>\n",
       "      <td>16.710984</td>\n",
       "      <td>10.066241</td>\n",
       "      <td>11.690308</td>\n",
       "      <td>122.9</td>\n",
       "      <td>56.18</td>\n",
       "      <td>2.20</td>\n",
       "      <td>7.63</td>\n",
       "      <td>25.2</td>\n",
       "      <td>4.212190</td>\n",
       "      <td>4.811371</td>\n",
       "      <td>3.226844</td>\n",
       "    </tr>\n",
       "    <tr>\n",
       "      <th>1</th>\n",
       "      <td>37.286173</td>\n",
       "      <td>9.935769</td>\n",
       "      <td>13.730608</td>\n",
       "      <td>15.506720</td>\n",
       "      <td>10.540729</td>\n",
       "      <td>13.000000</td>\n",
       "      <td>99.2</td>\n",
       "      <td>50.63</td>\n",
       "      <td>1.92</td>\n",
       "      <td>12.77</td>\n",
       "      <td>21.2</td>\n",
       "      <td>2.883453</td>\n",
       "      <td>4.597138</td>\n",
       "      <td>3.054001</td>\n",
       "    </tr>\n",
       "    <tr>\n",
       "      <th>2</th>\n",
       "      <td>44.184088</td>\n",
       "      <td>6.097359</td>\n",
       "      <td>17.529325</td>\n",
       "      <td>13.511824</td>\n",
       "      <td>6.000000</td>\n",
       "      <td>12.677404</td>\n",
       "      <td>120.2</td>\n",
       "      <td>56.28</td>\n",
       "      <td>2.12</td>\n",
       "      <td>10.54</td>\n",
       "      <td>20.8</td>\n",
       "      <td>3.228502</td>\n",
       "      <td>4.789157</td>\n",
       "      <td>3.034953</td>\n",
       "    </tr>\n",
       "    <tr>\n",
       "      <th>3</th>\n",
       "      <td>41.325000</td>\n",
       "      <td>6.000000</td>\n",
       "      <td>22.000000</td>\n",
       "      <td>5.000000</td>\n",
       "      <td>12.675000</td>\n",
       "      <td>13.000000</td>\n",
       "      <td>67.8</td>\n",
       "      <td>48.72</td>\n",
       "      <td>2.17</td>\n",
       "      <td>22.42</td>\n",
       "      <td>19.3</td>\n",
       "      <td>1.966387</td>\n",
       "      <td>4.216562</td>\n",
       "      <td>2.960105</td>\n",
       "    </tr>\n",
       "    <tr>\n",
       "      <th>4</th>\n",
       "      <td>47.279148</td>\n",
       "      <td>7.907705</td>\n",
       "      <td>11.352851</td>\n",
       "      <td>19.460296</td>\n",
       "      <td>6.000000</td>\n",
       "      <td>8.000000</td>\n",
       "      <td>131.7</td>\n",
       "      <td>63.89</td>\n",
       "      <td>2.04</td>\n",
       "      <td>9.47</td>\n",
       "      <td>15.6</td>\n",
       "      <td>4.602754</td>\n",
       "      <td>4.880527</td>\n",
       "      <td>2.747271</td>\n",
       "    </tr>\n",
       "  </tbody>\n",
       "</table>\n",
       "</div>"
      ],
      "text/plain": [
       "           A         B          C          D          E          F  \\\n",
       "0  48.150777  6.489743   6.891947  16.710984  10.066241  11.690308   \n",
       "1  37.286173  9.935769  13.730608  15.506720  10.540729  13.000000   \n",
       "2  44.184088  6.097359  17.529325  13.511824   6.000000  12.677404   \n",
       "3  41.325000  6.000000  22.000000   5.000000  12.675000  13.000000   \n",
       "4  47.279148  7.907705  11.352851  19.460296   6.000000   8.000000   \n",
       "\n",
       "   HDT_0.455©  UTS(Mpa)  Modulus(Gpa)   EAB%  Viscosity_75C(cp)   R value  \\\n",
       "0       122.9     56.18          2.20   7.63               25.2  4.212190   \n",
       "1        99.2     50.63          1.92  12.77               21.2  2.883453   \n",
       "2       120.2     56.28          2.12  10.54               20.8  3.228502   \n",
       "3        67.8     48.72          2.17  22.42               19.3  1.966387   \n",
       "4       131.7     63.89          2.04   9.47               15.6  4.602754   \n",
       "\n",
       "    log_HDT  log_viscosity  \n",
       "0  4.811371       3.226844  \n",
       "1  4.597138       3.054001  \n",
       "2  4.789157       3.034953  \n",
       "3  4.216562       2.960105  \n",
       "4  4.880527       2.747271  "
      ]
     },
     "execution_count": 7,
     "metadata": {},
     "output_type": "execute_result"
    }
   ],
   "source": [
    "data.head()"
   ]
  },
  {
   "cell_type": "code",
   "execution_count": 8,
   "metadata": {},
   "outputs": [
    {
     "data": {
      "text/plain": [
       "A                    0\n",
       "B                    0\n",
       "C                    0\n",
       "D                    0\n",
       "E                    0\n",
       "F                    0\n",
       "HDT_0.455©           0\n",
       "UTS(Mpa)             0\n",
       "Modulus(Gpa)         0\n",
       "EAB%                 0\n",
       "Viscosity_75C(cp)    0\n",
       "R value              0\n",
       "log_HDT              0\n",
       "log_viscosity        0\n",
       "dtype: int64"
      ]
     },
     "execution_count": 8,
     "metadata": {},
     "output_type": "execute_result"
    }
   ],
   "source": [
    "data.isnull().sum()"
   ]
  },
  {
   "cell_type": "code",
   "execution_count": 9,
   "metadata": {},
   "outputs": [],
   "source": [
    "# Let's transform 'HDT' with a log transformation\n",
    "log_UTS = np.log(data['UTS(Mpa)'])\n",
    "log_modulus = np.log(data['Modulus(Gpa)'])\n",
    "log_eab = np.log(data['EAB%'])\n",
    "log_r = np.log(data['R value'])\n",
    "\n",
    "# Then we add it to our data frame\n",
    "data['log_UTS'] = log_UTS\n",
    "data['log_modulus'] = log_modulus\n",
    "data['log_eab'] = log_eab\n",
    "data['log_r'] = log_r"
   ]
  },
  {
   "cell_type": "code",
   "execution_count": 12,
   "metadata": {},
   "outputs": [
    {
     "data": {
      "text/html": [
       "<div>\n",
       "<style scoped>\n",
       "    .dataframe tbody tr th:only-of-type {\n",
       "        vertical-align: middle;\n",
       "    }\n",
       "\n",
       "    .dataframe tbody tr th {\n",
       "        vertical-align: top;\n",
       "    }\n",
       "\n",
       "    .dataframe thead th {\n",
       "        text-align: right;\n",
       "    }\n",
       "</style>\n",
       "<table border=\"1\" class=\"dataframe\">\n",
       "  <thead>\n",
       "    <tr style=\"text-align: right;\">\n",
       "      <th></th>\n",
       "      <th>A</th>\n",
       "      <th>B</th>\n",
       "      <th>C</th>\n",
       "      <th>D</th>\n",
       "      <th>E</th>\n",
       "      <th>F</th>\n",
       "      <th>HDT_0.455©</th>\n",
       "      <th>UTS(Mpa)</th>\n",
       "      <th>Modulus(Gpa)</th>\n",
       "      <th>EAB%</th>\n",
       "      <th>Viscosity_75C(cp)</th>\n",
       "      <th>R value</th>\n",
       "      <th>log_HDT</th>\n",
       "      <th>log_viscosity</th>\n",
       "      <th>log_UTS</th>\n",
       "      <th>log_modulus</th>\n",
       "      <th>log_eab</th>\n",
       "      <th>log_r</th>\n",
       "    </tr>\n",
       "  </thead>\n",
       "  <tbody>\n",
       "    <tr>\n",
       "      <th>0</th>\n",
       "      <td>48.150777</td>\n",
       "      <td>6.489743</td>\n",
       "      <td>6.891947</td>\n",
       "      <td>16.710984</td>\n",
       "      <td>10.066241</td>\n",
       "      <td>11.690308</td>\n",
       "      <td>122.9</td>\n",
       "      <td>56.18</td>\n",
       "      <td>2.20</td>\n",
       "      <td>7.63</td>\n",
       "      <td>25.2</td>\n",
       "      <td>4.212190</td>\n",
       "      <td>4.811371</td>\n",
       "      <td>3.226844</td>\n",
       "      <td>4.028561</td>\n",
       "      <td>0.788457</td>\n",
       "      <td>2.032088</td>\n",
       "      <td>1.437983</td>\n",
       "    </tr>\n",
       "    <tr>\n",
       "      <th>1</th>\n",
       "      <td>37.286173</td>\n",
       "      <td>9.935769</td>\n",
       "      <td>13.730608</td>\n",
       "      <td>15.506720</td>\n",
       "      <td>10.540729</td>\n",
       "      <td>13.000000</td>\n",
       "      <td>99.2</td>\n",
       "      <td>50.63</td>\n",
       "      <td>1.92</td>\n",
       "      <td>12.77</td>\n",
       "      <td>21.2</td>\n",
       "      <td>2.883453</td>\n",
       "      <td>4.597138</td>\n",
       "      <td>3.054001</td>\n",
       "      <td>3.924544</td>\n",
       "      <td>0.652325</td>\n",
       "      <td>2.547099</td>\n",
       "      <td>1.058988</td>\n",
       "    </tr>\n",
       "    <tr>\n",
       "      <th>2</th>\n",
       "      <td>44.184088</td>\n",
       "      <td>6.097359</td>\n",
       "      <td>17.529325</td>\n",
       "      <td>13.511824</td>\n",
       "      <td>6.000000</td>\n",
       "      <td>12.677404</td>\n",
       "      <td>120.2</td>\n",
       "      <td>56.28</td>\n",
       "      <td>2.12</td>\n",
       "      <td>10.54</td>\n",
       "      <td>20.8</td>\n",
       "      <td>3.228502</td>\n",
       "      <td>4.789157</td>\n",
       "      <td>3.034953</td>\n",
       "      <td>4.030339</td>\n",
       "      <td>0.751416</td>\n",
       "      <td>2.355178</td>\n",
       "      <td>1.172018</td>\n",
       "    </tr>\n",
       "    <tr>\n",
       "      <th>3</th>\n",
       "      <td>41.325000</td>\n",
       "      <td>6.000000</td>\n",
       "      <td>22.000000</td>\n",
       "      <td>5.000000</td>\n",
       "      <td>12.675000</td>\n",
       "      <td>13.000000</td>\n",
       "      <td>67.8</td>\n",
       "      <td>48.72</td>\n",
       "      <td>2.17</td>\n",
       "      <td>22.42</td>\n",
       "      <td>19.3</td>\n",
       "      <td>1.966387</td>\n",
       "      <td>4.216562</td>\n",
       "      <td>2.960105</td>\n",
       "      <td>3.886090</td>\n",
       "      <td>0.774727</td>\n",
       "      <td>3.109953</td>\n",
       "      <td>0.676198</td>\n",
       "    </tr>\n",
       "    <tr>\n",
       "      <th>4</th>\n",
       "      <td>47.279148</td>\n",
       "      <td>7.907705</td>\n",
       "      <td>11.352851</td>\n",
       "      <td>19.460296</td>\n",
       "      <td>6.000000</td>\n",
       "      <td>8.000000</td>\n",
       "      <td>131.7</td>\n",
       "      <td>63.89</td>\n",
       "      <td>2.04</td>\n",
       "      <td>9.47</td>\n",
       "      <td>15.6</td>\n",
       "      <td>4.602754</td>\n",
       "      <td>4.880527</td>\n",
       "      <td>2.747271</td>\n",
       "      <td>4.157163</td>\n",
       "      <td>0.712950</td>\n",
       "      <td>2.248129</td>\n",
       "      <td>1.526655</td>\n",
       "    </tr>\n",
       "  </tbody>\n",
       "</table>\n",
       "</div>"
      ],
      "text/plain": [
       "           A         B          C          D          E          F  \\\n",
       "0  48.150777  6.489743   6.891947  16.710984  10.066241  11.690308   \n",
       "1  37.286173  9.935769  13.730608  15.506720  10.540729  13.000000   \n",
       "2  44.184088  6.097359  17.529325  13.511824   6.000000  12.677404   \n",
       "3  41.325000  6.000000  22.000000   5.000000  12.675000  13.000000   \n",
       "4  47.279148  7.907705  11.352851  19.460296   6.000000   8.000000   \n",
       "\n",
       "   HDT_0.455©  UTS(Mpa)  Modulus(Gpa)   EAB%  Viscosity_75C(cp)   R value  \\\n",
       "0       122.9     56.18          2.20   7.63               25.2  4.212190   \n",
       "1        99.2     50.63          1.92  12.77               21.2  2.883453   \n",
       "2       120.2     56.28          2.12  10.54               20.8  3.228502   \n",
       "3        67.8     48.72          2.17  22.42               19.3  1.966387   \n",
       "4       131.7     63.89          2.04   9.47               15.6  4.602754   \n",
       "\n",
       "    log_HDT  log_viscosity   log_UTS  log_modulus   log_eab     log_r  \n",
       "0  4.811371       3.226844  4.028561     0.788457  2.032088  1.437983  \n",
       "1  4.597138       3.054001  3.924544     0.652325  2.547099  1.058988  \n",
       "2  4.789157       3.034953  4.030339     0.751416  2.355178  1.172018  \n",
       "3  4.216562       2.960105  3.886090     0.774727  3.109953  0.676198  \n",
       "4  4.880527       2.747271  4.157163     0.712950  2.248129  1.526655  "
      ]
     },
     "execution_count": 12,
     "metadata": {},
     "output_type": "execute_result"
    }
   ],
   "source": [
    "data.head()"
   ]
  },
  {
   "attachments": {},
   "cell_type": "markdown",
   "metadata": {},
   "source": [
    "## Creating individual models"
   ]
  },
  {
   "attachments": {},
   "cell_type": "markdown",
   "metadata": {},
   "source": [
    "### HDT ###"
   ]
  },
  {
   "cell_type": "code",
   "execution_count": 96,
   "metadata": {},
   "outputs": [
    {
     "data": {
      "text/plain": [
       "<function matplotlib.pyplot.show(close=None, block=None)>"
      ]
     },
     "execution_count": 96,
     "metadata": {},
     "output_type": "execute_result"
    },
    {
     "data": {
      "image/png": "[encoded data removed]",
      "text/plain": [
       "<Figure size 640x480 with 1 Axes>"
      ]
     },
     "metadata": {},
     "output_type": "display_data"
    }
   ],
   "source": [
    "x_hdt = data[['B','C','D','E','F']]\n",
    "y_hdt = data['log_HDT']\n",
    "scaler = StandardScaler()\n",
    "scaler.fit(x_hdt)\n",
    "x_hdt_scaled = scaler.transform(x_hdt)\n",
    "x_train_hdt,x_test_hdt,y_train_hdt,y_test_hdt = train_test_split(x_hdt_scaled,y_hdt,test_size=0.20, random_state=362)\n",
    "reg_hdt = LinearRegression()\n",
    "reg_hdt.fit(x_train_hdt,y_train_hdt)\n",
    "yhat_hdt = reg_hdt.predict(x_train_hdt)\n",
    "plt.scatter(y_train_hdt,yhat_hdt)\n",
    "plt.xlabel('Measured logHDT', size=18)\n",
    "plt.ylabel('Predicted logHDT', size=18)\n",
    "plt.show"
   ]
  },
  {
   "cell_type": "code",
   "execution_count": 97,
   "metadata": {},
   "outputs": [
    {
     "name": "stderr",
     "output_type": "stream",
     "text": [
      "C:\\Users\\apmle\\AppData\\Local\\Temp\\ipykernel_37744\\2315975641.py:1: UserWarning: \n",
      "\n",
      "`distplot` is a deprecated function and will be removed in seaborn v0.14.0.\n",
      "\n",
      "Please adapt your code to use either `displot` (a figure-level function with\n",
      "similar flexibility) or `histplot` (an axes-level function for histograms).\n",
      "\n",
      "For a guide to updating your code to use the new functions, please see\n",
      "https://gist.github.com/mwaskom/de44147ed2974457ad6372750bbe5751\n",
      "\n",
      "  sns.distplot(y_train_hdt - yhat_hdt)\n"
     ]
    },
    {
     "data": {
      "text/plain": [
       "Text(0.5, 1.0, 'Residuals PDF')"
      ]
     },
     "execution_count": 97,
     "metadata": {},
     "output_type": "execute_result"
    },
    {
     "data": {
      "image/png": "[encoded data removed]",
      "text/plain": [
       "<Figure size 640x480 with 1 Axes>"
      ]
     },
     "metadata": {},
     "output_type": "display_data"
    }
   ],
   "source": [
    "sns.distplot(y_train_hdt - yhat_hdt)\n",
    "plt.title('Residuals PDF', size=18)"
   ]
  },
  {
   "cell_type": "code",
   "execution_count": 98,
   "metadata": {},
   "outputs": [
    {
     "data": {
      "text/plain": [
       "0.9008367103781425"
      ]
     },
     "execution_count": 98,
     "metadata": {},
     "output_type": "execute_result"
    }
   ],
   "source": [
    "r2= reg_hdt.score(x_train_hdt,y_train_hdt)\n",
    "r2"
   ]
  },
  {
   "cell_type": "code",
   "execution_count": 99,
   "metadata": {},
   "outputs": [
    {
     "data": {
      "text/plain": [
       "0.8963698955303111"
      ]
     },
     "execution_count": 99,
     "metadata": {},
     "output_type": "execute_result"
    }
   ],
   "source": [
    "x_hdt.shape\n",
    "n = x_hdt.shape[0]\n",
    "p = x_hdt.shape[1]\n",
    "\n",
    "adjusted_r2_hdt = 1-(1-r2)*(n-1)/(n-p-1)\n",
    "adjusted_r2_hdt"
   ]
  },
  {
   "cell_type": "code",
   "execution_count": 100,
   "metadata": {},
   "outputs": [],
   "source": [
    "y_hat_test_hdt = reg_hdt.predict(x_test_hdt)"
   ]
  },
  {
   "cell_type": "code",
   "execution_count": 101,
   "metadata": {},
   "outputs": [
    {
     "data": {
      "image/png": "[encoded data removed]",
      "text/plain": [
       "<Figure size 640x480 with 1 Axes>"
      ]
     },
     "metadata": {},
     "output_type": "display_data"
    }
   ],
   "source": [
    "plt.scatter(y_test_hdt,y_hat_test_hdt)\n",
    "plt.xlabel('Measured', size=18)\n",
    "plt.ylabel('Predicted', size=18)\n",
    "plt.show()"
   ]
  },
  {
   "cell_type": "code",
   "execution_count": null,
   "metadata": {},
   "outputs": [],
   "source": []
  }
 ],
 "metadata": {
  "kernelspec": {
   "display_name": "Python 3",
   "language": "python",
   "name": "python3"
  },
  "language_info": {
   "codemirror_mode": {
    "name": "ipython",
    "version": 3
   },
   "file_extension": ".py",
   "mimetype": "text/x-python",
   "name": "python",
   "nbconvert_exporter": "python",
   "pygments_lexer": "ipython3",
   "version": "3.10.11"
  },
  "orig_nbformat": 4
 },
 "nbformat": 4,
 "nbformat_minor": 2
}
