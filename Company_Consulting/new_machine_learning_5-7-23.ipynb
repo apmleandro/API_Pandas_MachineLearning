{
 "cells": [
  {
   "cell_type": "code",
   "execution_count": 3,
   "metadata": {},
   "outputs": [],
   "source": [
    "import numpy as np\n",
    "import pandas as pd\n",
    "import matplotlib.pyplot as plt\n",
    "import seaborn as sns\n",
    "sns.set()\n",
    "from sklearn.linear_model import LinearRegression\n",
    "from sklearn.preprocessing import StandardScaler\n",
    "pd.set_option('display.max_rows', 500)"
   ]
  },
  {
   "cell_type": "code",
   "execution_count": 4,
   "metadata": {},
   "outputs": [],
   "source": [
    "data = pd.read_csv('treated_data2.csv')"
   ]
  },
  {
   "cell_type": "code",
   "execution_count": 5,
   "metadata": {},
   "outputs": [
    {
     "data": {
      "text/html": [
       "<div>\n",
       "<style scoped>\n",
       "    .dataframe tbody tr th:only-of-type {\n",
       "        vertical-align: middle;\n",
       "    }\n",
       "\n",
       "    .dataframe tbody tr th {\n",
       "        vertical-align: top;\n",
       "    }\n",
       "\n",
       "    .dataframe thead th {\n",
       "        text-align: right;\n",
       "    }\n",
       "</style>\n",
       "<table border=\"1\" class=\"dataframe\">\n",
       "  <thead>\n",
       "    <tr style=\"text-align: right;\">\n",
       "      <th></th>\n",
       "      <th>Unnamed: 0</th>\n",
       "      <th>A</th>\n",
       "      <th>B</th>\n",
       "      <th>C</th>\n",
       "      <th>D</th>\n",
       "      <th>E</th>\n",
       "      <th>F</th>\n",
       "      <th>HDT_0.455©</th>\n",
       "      <th>UTS(Mpa)</th>\n",
       "      <th>Modulus(Gpa)</th>\n",
       "      <th>EAB%</th>\n",
       "      <th>Viscosity_75C(cp)</th>\n",
       "      <th>R value</th>\n",
       "      <th>log_HDT</th>\n",
       "      <th>log_viscosity</th>\n",
       "    </tr>\n",
       "  </thead>\n",
       "  <tbody>\n",
       "    <tr>\n",
       "      <th>0</th>\n",
       "      <td>0</td>\n",
       "      <td>48.150777</td>\n",
       "      <td>6.489743</td>\n",
       "      <td>6.891947</td>\n",
       "      <td>16.710984</td>\n",
       "      <td>10.066241</td>\n",
       "      <td>11.690308</td>\n",
       "      <td>122.9</td>\n",
       "      <td>56.18</td>\n",
       "      <td>2.20</td>\n",
       "      <td>7.63</td>\n",
       "      <td>25.2</td>\n",
       "      <td>4.212190</td>\n",
       "      <td>4.811371</td>\n",
       "      <td>3.226844</td>\n",
       "    </tr>\n",
       "    <tr>\n",
       "      <th>1</th>\n",
       "      <td>1</td>\n",
       "      <td>37.286173</td>\n",
       "      <td>9.935769</td>\n",
       "      <td>13.730608</td>\n",
       "      <td>15.506720</td>\n",
       "      <td>10.540729</td>\n",
       "      <td>13.000000</td>\n",
       "      <td>99.2</td>\n",
       "      <td>50.63</td>\n",
       "      <td>1.92</td>\n",
       "      <td>12.77</td>\n",
       "      <td>21.2</td>\n",
       "      <td>2.883453</td>\n",
       "      <td>4.597138</td>\n",
       "      <td>3.054001</td>\n",
       "    </tr>\n",
       "    <tr>\n",
       "      <th>2</th>\n",
       "      <td>2</td>\n",
       "      <td>44.184088</td>\n",
       "      <td>6.097359</td>\n",
       "      <td>17.529325</td>\n",
       "      <td>13.511824</td>\n",
       "      <td>6.000000</td>\n",
       "      <td>12.677404</td>\n",
       "      <td>120.2</td>\n",
       "      <td>56.28</td>\n",
       "      <td>2.12</td>\n",
       "      <td>10.54</td>\n",
       "      <td>20.8</td>\n",
       "      <td>3.228502</td>\n",
       "      <td>4.789157</td>\n",
       "      <td>3.034953</td>\n",
       "    </tr>\n",
       "    <tr>\n",
       "      <th>3</th>\n",
       "      <td>3</td>\n",
       "      <td>41.325000</td>\n",
       "      <td>6.000000</td>\n",
       "      <td>22.000000</td>\n",
       "      <td>5.000000</td>\n",
       "      <td>12.675000</td>\n",
       "      <td>13.000000</td>\n",
       "      <td>67.8</td>\n",
       "      <td>48.72</td>\n",
       "      <td>2.17</td>\n",
       "      <td>22.42</td>\n",
       "      <td>19.3</td>\n",
       "      <td>1.966387</td>\n",
       "      <td>4.216562</td>\n",
       "      <td>2.960105</td>\n",
       "    </tr>\n",
       "    <tr>\n",
       "      <th>4</th>\n",
       "      <td>4</td>\n",
       "      <td>47.279148</td>\n",
       "      <td>7.907705</td>\n",
       "      <td>11.352851</td>\n",
       "      <td>19.460296</td>\n",
       "      <td>6.000000</td>\n",
       "      <td>8.000000</td>\n",
       "      <td>131.7</td>\n",
       "      <td>63.89</td>\n",
       "      <td>2.04</td>\n",
       "      <td>9.47</td>\n",
       "      <td>15.6</td>\n",
       "      <td>4.602754</td>\n",
       "      <td>4.880527</td>\n",
       "      <td>2.747271</td>\n",
       "    </tr>\n",
       "  </tbody>\n",
       "</table>\n",
       "</div>"
      ],
      "text/plain": [
       "   Unnamed: 0          A         B          C          D          E  \\\n",
       "0           0  48.150777  6.489743   6.891947  16.710984  10.066241   \n",
       "1           1  37.286173  9.935769  13.730608  15.506720  10.540729   \n",
       "2           2  44.184088  6.097359  17.529325  13.511824   6.000000   \n",
       "3           3  41.325000  6.000000  22.000000   5.000000  12.675000   \n",
       "4           4  47.279148  7.907705  11.352851  19.460296   6.000000   \n",
       "\n",
       "           F  HDT_0.455©  UTS(Mpa)  Modulus(Gpa)   EAB%  Viscosity_75C(cp)  \\\n",
       "0  11.690308       122.9     56.18          2.20   7.63               25.2   \n",
       "1  13.000000        99.2     50.63          1.92  12.77               21.2   \n",
       "2  12.677404       120.2     56.28          2.12  10.54               20.8   \n",
       "3  13.000000        67.8     48.72          2.17  22.42               19.3   \n",
       "4   8.000000       131.7     63.89          2.04   9.47               15.6   \n",
       "\n",
       "    R value   log_HDT  log_viscosity  \n",
       "0  4.212190  4.811371       3.226844  \n",
       "1  2.883453  4.597138       3.054001  \n",
       "2  3.228502  4.789157       3.034953  \n",
       "3  1.966387  4.216562       2.960105  \n",
       "4  4.602754  4.880527       2.747271  "
      ]
     },
     "execution_count": 5,
     "metadata": {},
     "output_type": "execute_result"
    }
   ],
   "source": [
    "data.head()"
   ]
  },
  {
   "cell_type": "code",
   "execution_count": 6,
   "metadata": {},
   "outputs": [],
   "source": [
    "data.drop(columns='Unnamed: 0', axis =1, inplace=True)"
   ]
  },
  {
   "cell_type": "code",
   "execution_count": 7,
   "metadata": {},
   "outputs": [
    {
     "data": {
      "text/html": [
       "<div>\n",
       "<style scoped>\n",
       "    .dataframe tbody tr th:only-of-type {\n",
       "        vertical-align: middle;\n",
       "    }\n",
       "\n",
       "    .dataframe tbody tr th {\n",
       "        vertical-align: top;\n",
       "    }\n",
       "\n",
       "    .dataframe thead th {\n",
       "        text-align: right;\n",
       "    }\n",
       "</style>\n",
       "<table border=\"1\" class=\"dataframe\">\n",
       "  <thead>\n",
       "    <tr style=\"text-align: right;\">\n",
       "      <th></th>\n",
       "      <th>A</th>\n",
       "      <th>B</th>\n",
       "      <th>C</th>\n",
       "      <th>D</th>\n",
       "      <th>E</th>\n",
       "      <th>F</th>\n",
       "      <th>HDT_0.455©</th>\n",
       "      <th>UTS(Mpa)</th>\n",
       "      <th>Modulus(Gpa)</th>\n",
       "      <th>EAB%</th>\n",
       "      <th>Viscosity_75C(cp)</th>\n",
       "      <th>R value</th>\n",
       "      <th>log_HDT</th>\n",
       "      <th>log_viscosity</th>\n",
       "    </tr>\n",
       "  </thead>\n",
       "  <tbody>\n",
       "    <tr>\n",
       "      <th>0</th>\n",
       "      <td>48.150777</td>\n",
       "      <td>6.489743</td>\n",
       "      <td>6.891947</td>\n",
       "      <td>16.710984</td>\n",
       "      <td>10.066241</td>\n",
       "      <td>11.690308</td>\n",
       "      <td>122.9</td>\n",
       "      <td>56.18</td>\n",
       "      <td>2.20</td>\n",
       "      <td>7.63</td>\n",
       "      <td>25.2</td>\n",
       "      <td>4.212190</td>\n",
       "      <td>4.811371</td>\n",
       "      <td>3.226844</td>\n",
       "    </tr>\n",
       "    <tr>\n",
       "      <th>1</th>\n",
       "      <td>37.286173</td>\n",
       "      <td>9.935769</td>\n",
       "      <td>13.730608</td>\n",
       "      <td>15.506720</td>\n",
       "      <td>10.540729</td>\n",
       "      <td>13.000000</td>\n",
       "      <td>99.2</td>\n",
       "      <td>50.63</td>\n",
       "      <td>1.92</td>\n",
       "      <td>12.77</td>\n",
       "      <td>21.2</td>\n",
       "      <td>2.883453</td>\n",
       "      <td>4.597138</td>\n",
       "      <td>3.054001</td>\n",
       "    </tr>\n",
       "    <tr>\n",
       "      <th>2</th>\n",
       "      <td>44.184088</td>\n",
       "      <td>6.097359</td>\n",
       "      <td>17.529325</td>\n",
       "      <td>13.511824</td>\n",
       "      <td>6.000000</td>\n",
       "      <td>12.677404</td>\n",
       "      <td>120.2</td>\n",
       "      <td>56.28</td>\n",
       "      <td>2.12</td>\n",
       "      <td>10.54</td>\n",
       "      <td>20.8</td>\n",
       "      <td>3.228502</td>\n",
       "      <td>4.789157</td>\n",
       "      <td>3.034953</td>\n",
       "    </tr>\n",
       "    <tr>\n",
       "      <th>3</th>\n",
       "      <td>41.325000</td>\n",
       "      <td>6.000000</td>\n",
       "      <td>22.000000</td>\n",
       "      <td>5.000000</td>\n",
       "      <td>12.675000</td>\n",
       "      <td>13.000000</td>\n",
       "      <td>67.8</td>\n",
       "      <td>48.72</td>\n",
       "      <td>2.17</td>\n",
       "      <td>22.42</td>\n",
       "      <td>19.3</td>\n",
       "      <td>1.966387</td>\n",
       "      <td>4.216562</td>\n",
       "      <td>2.960105</td>\n",
       "    </tr>\n",
       "    <tr>\n",
       "      <th>4</th>\n",
       "      <td>47.279148</td>\n",
       "      <td>7.907705</td>\n",
       "      <td>11.352851</td>\n",
       "      <td>19.460296</td>\n",
       "      <td>6.000000</td>\n",
       "      <td>8.000000</td>\n",
       "      <td>131.7</td>\n",
       "      <td>63.89</td>\n",
       "      <td>2.04</td>\n",
       "      <td>9.47</td>\n",
       "      <td>15.6</td>\n",
       "      <td>4.602754</td>\n",
       "      <td>4.880527</td>\n",
       "      <td>2.747271</td>\n",
       "    </tr>\n",
       "  </tbody>\n",
       "</table>\n",
       "</div>"
      ],
      "text/plain": [
       "           A         B          C          D          E          F  \\\n",
       "0  48.150777  6.489743   6.891947  16.710984  10.066241  11.690308   \n",
       "1  37.286173  9.935769  13.730608  15.506720  10.540729  13.000000   \n",
       "2  44.184088  6.097359  17.529325  13.511824   6.000000  12.677404   \n",
       "3  41.325000  6.000000  22.000000   5.000000  12.675000  13.000000   \n",
       "4  47.279148  7.907705  11.352851  19.460296   6.000000   8.000000   \n",
       "\n",
       "   HDT_0.455©  UTS(Mpa)  Modulus(Gpa)   EAB%  Viscosity_75C(cp)   R value  \\\n",
       "0       122.9     56.18          2.20   7.63               25.2  4.212190   \n",
       "1        99.2     50.63          1.92  12.77               21.2  2.883453   \n",
       "2       120.2     56.28          2.12  10.54               20.8  3.228502   \n",
       "3        67.8     48.72          2.17  22.42               19.3  1.966387   \n",
       "4       131.7     63.89          2.04   9.47               15.6  4.602754   \n",
       "\n",
       "    log_HDT  log_viscosity  \n",
       "0  4.811371       3.226844  \n",
       "1  4.597138       3.054001  \n",
       "2  4.789157       3.034953  \n",
       "3  4.216562       2.960105  \n",
       "4  4.880527       2.747271  "
      ]
     },
     "execution_count": 7,
     "metadata": {},
     "output_type": "execute_result"
    }
   ],
   "source": [
    "data.head()"
   ]
  },
  {
   "cell_type": "code",
   "execution_count": 8,
   "metadata": {},
   "outputs": [
    {
     "data": {
      "text/html": [
       "<div>\n",
       "<style scoped>\n",
       "    .dataframe tbody tr th:only-of-type {\n",
       "        vertical-align: middle;\n",
       "    }\n",
       "\n",
       "    .dataframe tbody tr th {\n",
       "        vertical-align: top;\n",
       "    }\n",
       "\n",
       "    .dataframe thead th {\n",
       "        text-align: right;\n",
       "    }\n",
       "</style>\n",
       "<table border=\"1\" class=\"dataframe\">\n",
       "  <thead>\n",
       "    <tr style=\"text-align: right;\">\n",
       "      <th></th>\n",
       "      <th>A</th>\n",
       "      <th>B</th>\n",
       "      <th>C</th>\n",
       "      <th>D</th>\n",
       "      <th>E</th>\n",
       "      <th>F</th>\n",
       "      <th>HDT_0.455©</th>\n",
       "      <th>UTS(Mpa)</th>\n",
       "      <th>Modulus(Gpa)</th>\n",
       "      <th>EAB%</th>\n",
       "      <th>Viscosity_75C(cp)</th>\n",
       "      <th>R value</th>\n",
       "      <th>log_HDT</th>\n",
       "      <th>log_viscosity</th>\n",
       "    </tr>\n",
       "  </thead>\n",
       "  <tbody>\n",
       "    <tr>\n",
       "      <th>count</th>\n",
       "      <td>117.000000</td>\n",
       "      <td>117.000000</td>\n",
       "      <td>117.000000</td>\n",
       "      <td>117.000000</td>\n",
       "      <td>117.000000</td>\n",
       "      <td>117.000000</td>\n",
       "      <td>117.000000</td>\n",
       "      <td>117.000000</td>\n",
       "      <td>117.000000</td>\n",
       "      <td>117.000000</td>\n",
       "      <td>117.000000</td>\n",
       "      <td>117.000000</td>\n",
       "      <td>117.000000</td>\n",
       "      <td>117.000000</td>\n",
       "    </tr>\n",
       "    <tr>\n",
       "      <th>mean</th>\n",
       "      <td>41.392278</td>\n",
       "      <td>8.127430</td>\n",
       "      <td>14.276939</td>\n",
       "      <td>19.933414</td>\n",
       "      <td>10.554970</td>\n",
       "      <td>5.715461</td>\n",
       "      <td>105.643865</td>\n",
       "      <td>53.924570</td>\n",
       "      <td>2.121194</td>\n",
       "      <td>8.609783</td>\n",
       "      <td>13.482203</td>\n",
       "      <td>3.236349</td>\n",
       "      <td>4.636638</td>\n",
       "      <td>2.528122</td>\n",
       "    </tr>\n",
       "    <tr>\n",
       "      <th>std</th>\n",
       "      <td>6.071671</td>\n",
       "      <td>5.677545</td>\n",
       "      <td>5.949483</td>\n",
       "      <td>6.091829</td>\n",
       "      <td>4.371528</td>\n",
       "      <td>5.755106</td>\n",
       "      <td>22.474842</td>\n",
       "      <td>6.336723</td>\n",
       "      <td>0.239883</td>\n",
       "      <td>4.046951</td>\n",
       "      <td>5.138215</td>\n",
       "      <td>0.700248</td>\n",
       "      <td>0.220824</td>\n",
       "      <td>0.387734</td>\n",
       "    </tr>\n",
       "    <tr>\n",
       "      <th>min</th>\n",
       "      <td>29.000000</td>\n",
       "      <td>0.000000</td>\n",
       "      <td>5.000000</td>\n",
       "      <td>5.000000</td>\n",
       "      <td>2.000000</td>\n",
       "      <td>0.000000</td>\n",
       "      <td>58.100000</td>\n",
       "      <td>39.630000</td>\n",
       "      <td>1.540000</td>\n",
       "      <td>2.420000</td>\n",
       "      <td>6.289300</td>\n",
       "      <td>1.893240</td>\n",
       "      <td>4.062166</td>\n",
       "      <td>1.838850</td>\n",
       "    </tr>\n",
       "    <tr>\n",
       "      <th>25%</th>\n",
       "      <td>36.552301</td>\n",
       "      <td>4.800000</td>\n",
       "      <td>10.000000</td>\n",
       "      <td>17.201090</td>\n",
       "      <td>7.230000</td>\n",
       "      <td>0.000000</td>\n",
       "      <td>88.900000</td>\n",
       "      <td>50.070000</td>\n",
       "      <td>1.950000</td>\n",
       "      <td>5.920000</td>\n",
       "      <td>8.529000</td>\n",
       "      <td>2.800256</td>\n",
       "      <td>4.487512</td>\n",
       "      <td>2.143472</td>\n",
       "    </tr>\n",
       "    <tr>\n",
       "      <th>50%</th>\n",
       "      <td>39.860577</td>\n",
       "      <td>7.350000</td>\n",
       "      <td>13.730608</td>\n",
       "      <td>20.664169</td>\n",
       "      <td>11.605969</td>\n",
       "      <td>8.000000</td>\n",
       "      <td>108.100000</td>\n",
       "      <td>53.820000</td>\n",
       "      <td>2.130000</td>\n",
       "      <td>7.920000</td>\n",
       "      <td>13.682042</td>\n",
       "      <td>3.007927</td>\n",
       "      <td>4.683057</td>\n",
       "      <td>2.616084</td>\n",
       "    </tr>\n",
       "    <tr>\n",
       "      <th>75%</th>\n",
       "      <td>47.279148</td>\n",
       "      <td>12.000000</td>\n",
       "      <td>18.000000</td>\n",
       "      <td>23.666670</td>\n",
       "      <td>14.064416</td>\n",
       "      <td>11.990000</td>\n",
       "      <td>120.800000</td>\n",
       "      <td>58.290000</td>\n",
       "      <td>2.270000</td>\n",
       "      <td>10.510000</td>\n",
       "      <td>16.415000</td>\n",
       "      <td>3.399697</td>\n",
       "      <td>4.794136</td>\n",
       "      <td>2.798196</td>\n",
       "    </tr>\n",
       "    <tr>\n",
       "      <th>max</th>\n",
       "      <td>52.000000</td>\n",
       "      <td>20.000000</td>\n",
       "      <td>29.000000</td>\n",
       "      <td>31.578643</td>\n",
       "      <td>17.000000</td>\n",
       "      <td>13.000000</td>\n",
       "      <td>163.400000</td>\n",
       "      <td>68.670000</td>\n",
       "      <td>2.910000</td>\n",
       "      <td>23.780000</td>\n",
       "      <td>28.100000</td>\n",
       "      <td>5.001224</td>\n",
       "      <td>5.096201</td>\n",
       "      <td>3.335770</td>\n",
       "    </tr>\n",
       "  </tbody>\n",
       "</table>\n",
       "</div>"
      ],
      "text/plain": [
       "                A           B           C           D           E           F  \\\n",
       "count  117.000000  117.000000  117.000000  117.000000  117.000000  117.000000   \n",
       "mean    41.392278    8.127430   14.276939   19.933414   10.554970    5.715461   \n",
       "std      6.071671    5.677545    5.949483    6.091829    4.371528    5.755106   \n",
       "min     29.000000    0.000000    5.000000    5.000000    2.000000    0.000000   \n",
       "25%     36.552301    4.800000   10.000000   17.201090    7.230000    0.000000   \n",
       "50%     39.860577    7.350000   13.730608   20.664169   11.605969    8.000000   \n",
       "75%     47.279148   12.000000   18.000000   23.666670   14.064416   11.990000   \n",
       "max     52.000000   20.000000   29.000000   31.578643   17.000000   13.000000   \n",
       "\n",
       "       HDT_0.455©    UTS(Mpa)  Modulus(Gpa)        EAB%  Viscosity_75C(cp)  \\\n",
       "count  117.000000  117.000000    117.000000  117.000000         117.000000   \n",
       "mean   105.643865   53.924570      2.121194    8.609783          13.482203   \n",
       "std     22.474842    6.336723      0.239883    4.046951           5.138215   \n",
       "min     58.100000   39.630000      1.540000    2.420000           6.289300   \n",
       "25%     88.900000   50.070000      1.950000    5.920000           8.529000   \n",
       "50%    108.100000   53.820000      2.130000    7.920000          13.682042   \n",
       "75%    120.800000   58.290000      2.270000   10.510000          16.415000   \n",
       "max    163.400000   68.670000      2.910000   23.780000          28.100000   \n",
       "\n",
       "          R value     log_HDT  log_viscosity  \n",
       "count  117.000000  117.000000     117.000000  \n",
       "mean     3.236349    4.636638       2.528122  \n",
       "std      0.700248    0.220824       0.387734  \n",
       "min      1.893240    4.062166       1.838850  \n",
       "25%      2.800256    4.487512       2.143472  \n",
       "50%      3.007927    4.683057       2.616084  \n",
       "75%      3.399697    4.794136       2.798196  \n",
       "max      5.001224    5.096201       3.335770  "
      ]
     },
     "execution_count": 8,
     "metadata": {},
     "output_type": "execute_result"
    }
   ],
   "source": [
    "data.describe()"
   ]
  },
  {
   "cell_type": "code",
   "execution_count": 9,
   "metadata": {},
   "outputs": [
    {
     "data": {
      "text/html": [
       "<div>\n",
       "<style scoped>\n",
       "    .dataframe tbody tr th:only-of-type {\n",
       "        vertical-align: middle;\n",
       "    }\n",
       "\n",
       "    .dataframe tbody tr th {\n",
       "        vertical-align: top;\n",
       "    }\n",
       "\n",
       "    .dataframe thead th {\n",
       "        text-align: right;\n",
       "    }\n",
       "</style>\n",
       "<table border=\"1\" class=\"dataframe\">\n",
       "  <thead>\n",
       "    <tr style=\"text-align: right;\">\n",
       "      <th></th>\n",
       "      <th>A</th>\n",
       "      <th>B</th>\n",
       "      <th>C</th>\n",
       "      <th>D</th>\n",
       "      <th>E</th>\n",
       "      <th>F</th>\n",
       "      <th>HDT_0.455©</th>\n",
       "      <th>UTS(Mpa)</th>\n",
       "      <th>Modulus(Gpa)</th>\n",
       "      <th>EAB%</th>\n",
       "      <th>Viscosity_75C(cp)</th>\n",
       "      <th>R value</th>\n",
       "      <th>log_HDT</th>\n",
       "      <th>log_viscosity</th>\n",
       "    </tr>\n",
       "  </thead>\n",
       "  <tbody>\n",
       "    <tr>\n",
       "      <th>A</th>\n",
       "      <td>1.000000</td>\n",
       "      <td>-0.542439</td>\n",
       "      <td>-0.062624</td>\n",
       "      <td>-0.386352</td>\n",
       "      <td>-0.169719</td>\n",
       "      <td>0.082772</td>\n",
       "      <td>0.397865</td>\n",
       "      <td>0.277509</td>\n",
       "      <td>0.171885</td>\n",
       "      <td>-0.100986</td>\n",
       "      <td>0.169325</td>\n",
       "      <td>0.298667</td>\n",
       "      <td>0.386127</td>\n",
       "      <td>0.115538</td>\n",
       "    </tr>\n",
       "    <tr>\n",
       "      <th>B</th>\n",
       "      <td>-0.542439</td>\n",
       "      <td>1.000000</td>\n",
       "      <td>0.022826</td>\n",
       "      <td>0.011687</td>\n",
       "      <td>0.043575</td>\n",
       "      <td>-0.483317</td>\n",
       "      <td>-0.075879</td>\n",
       "      <td>0.224980</td>\n",
       "      <td>0.176723</td>\n",
       "      <td>-0.252744</td>\n",
       "      <td>-0.231460</td>\n",
       "      <td>-0.024213</td>\n",
       "      <td>-0.071165</td>\n",
       "      <td>-0.207477</td>\n",
       "    </tr>\n",
       "    <tr>\n",
       "      <th>C</th>\n",
       "      <td>-0.062624</td>\n",
       "      <td>0.022826</td>\n",
       "      <td>1.000000</td>\n",
       "      <td>-0.186888</td>\n",
       "      <td>-0.669904</td>\n",
       "      <td>-0.283469</td>\n",
       "      <td>0.283601</td>\n",
       "      <td>0.483073</td>\n",
       "      <td>0.529866</td>\n",
       "      <td>-0.266409</td>\n",
       "      <td>-0.469052</td>\n",
       "      <td>-0.288603</td>\n",
       "      <td>0.262593</td>\n",
       "      <td>-0.468406</td>\n",
       "    </tr>\n",
       "    <tr>\n",
       "      <th>D</th>\n",
       "      <td>-0.386352</td>\n",
       "      <td>0.011687</td>\n",
       "      <td>-0.186888</td>\n",
       "      <td>1.000000</td>\n",
       "      <td>-0.078848</td>\n",
       "      <td>-0.409355</td>\n",
       "      <td>0.216989</td>\n",
       "      <td>-0.072525</td>\n",
       "      <td>-0.182274</td>\n",
       "      <td>-0.324280</td>\n",
       "      <td>-0.507404</td>\n",
       "      <td>0.455150</td>\n",
       "      <td>0.215209</td>\n",
       "      <td>-0.507091</td>\n",
       "    </tr>\n",
       "    <tr>\n",
       "      <th>E</th>\n",
       "      <td>-0.169719</td>\n",
       "      <td>0.043575</td>\n",
       "      <td>-0.669904</td>\n",
       "      <td>-0.078848</td>\n",
       "      <td>1.000000</td>\n",
       "      <td>0.152408</td>\n",
       "      <td>-0.847753</td>\n",
       "      <td>-0.582966</td>\n",
       "      <td>-0.373463</td>\n",
       "      <td>0.423548</td>\n",
       "      <td>0.261792</td>\n",
       "      <td>-0.468332</td>\n",
       "      <td>-0.823467</td>\n",
       "      <td>0.290623</td>\n",
       "    </tr>\n",
       "    <tr>\n",
       "      <th>F</th>\n",
       "      <td>0.082772</td>\n",
       "      <td>-0.483317</td>\n",
       "      <td>-0.283469</td>\n",
       "      <td>-0.409355</td>\n",
       "      <td>0.152408</td>\n",
       "      <td>1.000000</td>\n",
       "      <td>-0.223736</td>\n",
       "      <td>-0.494452</td>\n",
       "      <td>-0.426866</td>\n",
       "      <td>0.652801</td>\n",
       "      <td>0.872767</td>\n",
       "      <td>-0.118898</td>\n",
       "      <td>-0.210840</td>\n",
       "      <td>0.882946</td>\n",
       "    </tr>\n",
       "    <tr>\n",
       "      <th>HDT_0.455©</th>\n",
       "      <td>0.397865</td>\n",
       "      <td>-0.075879</td>\n",
       "      <td>0.283601</td>\n",
       "      <td>0.216989</td>\n",
       "      <td>-0.847753</td>\n",
       "      <td>-0.223736</td>\n",
       "      <td>1.000000</td>\n",
       "      <td>0.562374</td>\n",
       "      <td>0.227366</td>\n",
       "      <td>-0.530347</td>\n",
       "      <td>-0.202402</td>\n",
       "      <td>0.752849</td>\n",
       "      <td>0.990305</td>\n",
       "      <td>-0.244031</td>\n",
       "    </tr>\n",
       "    <tr>\n",
       "      <th>UTS(Mpa)</th>\n",
       "      <td>0.277509</td>\n",
       "      <td>0.224980</td>\n",
       "      <td>0.483073</td>\n",
       "      <td>-0.072525</td>\n",
       "      <td>-0.582966</td>\n",
       "      <td>-0.494452</td>\n",
       "      <td>0.562374</td>\n",
       "      <td>1.000000</td>\n",
       "      <td>0.494524</td>\n",
       "      <td>-0.451088</td>\n",
       "      <td>-0.425615</td>\n",
       "      <td>0.273968</td>\n",
       "      <td>0.576664</td>\n",
       "      <td>-0.455883</td>\n",
       "    </tr>\n",
       "    <tr>\n",
       "      <th>Modulus(Gpa)</th>\n",
       "      <td>0.171885</td>\n",
       "      <td>0.176723</td>\n",
       "      <td>0.529866</td>\n",
       "      <td>-0.182274</td>\n",
       "      <td>-0.373463</td>\n",
       "      <td>-0.426866</td>\n",
       "      <td>0.227366</td>\n",
       "      <td>0.494524</td>\n",
       "      <td>1.000000</td>\n",
       "      <td>-0.404942</td>\n",
       "      <td>-0.411822</td>\n",
       "      <td>-0.030854</td>\n",
       "      <td>0.174575</td>\n",
       "      <td>-0.421111</td>\n",
       "    </tr>\n",
       "    <tr>\n",
       "      <th>EAB%</th>\n",
       "      <td>-0.100986</td>\n",
       "      <td>-0.252744</td>\n",
       "      <td>-0.266409</td>\n",
       "      <td>-0.324280</td>\n",
       "      <td>0.423548</td>\n",
       "      <td>0.652801</td>\n",
       "      <td>-0.530347</td>\n",
       "      <td>-0.451088</td>\n",
       "      <td>-0.404942</td>\n",
       "      <td>1.000000</td>\n",
       "      <td>0.586948</td>\n",
       "      <td>-0.368770</td>\n",
       "      <td>-0.525292</td>\n",
       "      <td>0.587064</td>\n",
       "    </tr>\n",
       "    <tr>\n",
       "      <th>Viscosity_75C(cp)</th>\n",
       "      <td>0.169325</td>\n",
       "      <td>-0.231460</td>\n",
       "      <td>-0.469052</td>\n",
       "      <td>-0.507404</td>\n",
       "      <td>0.261792</td>\n",
       "      <td>0.872767</td>\n",
       "      <td>-0.202402</td>\n",
       "      <td>-0.425615</td>\n",
       "      <td>-0.411822</td>\n",
       "      <td>0.586948</td>\n",
       "      <td>1.000000</td>\n",
       "      <td>-0.021768</td>\n",
       "      <td>-0.181925</td>\n",
       "      <td>0.984495</td>\n",
       "    </tr>\n",
       "    <tr>\n",
       "      <th>R value</th>\n",
       "      <td>0.298667</td>\n",
       "      <td>-0.024213</td>\n",
       "      <td>-0.288603</td>\n",
       "      <td>0.455150</td>\n",
       "      <td>-0.468332</td>\n",
       "      <td>-0.118898</td>\n",
       "      <td>0.752849</td>\n",
       "      <td>0.273968</td>\n",
       "      <td>-0.030854</td>\n",
       "      <td>-0.368770</td>\n",
       "      <td>-0.021768</td>\n",
       "      <td>1.000000</td>\n",
       "      <td>0.727406</td>\n",
       "      <td>-0.061662</td>\n",
       "    </tr>\n",
       "    <tr>\n",
       "      <th>log_HDT</th>\n",
       "      <td>0.386127</td>\n",
       "      <td>-0.071165</td>\n",
       "      <td>0.262593</td>\n",
       "      <td>0.215209</td>\n",
       "      <td>-0.823467</td>\n",
       "      <td>-0.210840</td>\n",
       "      <td>0.990305</td>\n",
       "      <td>0.576664</td>\n",
       "      <td>0.174575</td>\n",
       "      <td>-0.525292</td>\n",
       "      <td>-0.181925</td>\n",
       "      <td>0.727406</td>\n",
       "      <td>1.000000</td>\n",
       "      <td>-0.221918</td>\n",
       "    </tr>\n",
       "    <tr>\n",
       "      <th>log_viscosity</th>\n",
       "      <td>0.115538</td>\n",
       "      <td>-0.207477</td>\n",
       "      <td>-0.468406</td>\n",
       "      <td>-0.507091</td>\n",
       "      <td>0.290623</td>\n",
       "      <td>0.882946</td>\n",
       "      <td>-0.244031</td>\n",
       "      <td>-0.455883</td>\n",
       "      <td>-0.421111</td>\n",
       "      <td>0.587064</td>\n",
       "      <td>0.984495</td>\n",
       "      <td>-0.061662</td>\n",
       "      <td>-0.221918</td>\n",
       "      <td>1.000000</td>\n",
       "    </tr>\n",
       "  </tbody>\n",
       "</table>\n",
       "</div>"
      ],
      "text/plain": [
       "                          A         B         C         D         E         F  \\\n",
       "A                  1.000000 -0.542439 -0.062624 -0.386352 -0.169719  0.082772   \n",
       "B                 -0.542439  1.000000  0.022826  0.011687  0.043575 -0.483317   \n",
       "C                 -0.062624  0.022826  1.000000 -0.186888 -0.669904 -0.283469   \n",
       "D                 -0.386352  0.011687 -0.186888  1.000000 -0.078848 -0.409355   \n",
       "E                 -0.169719  0.043575 -0.669904 -0.078848  1.000000  0.152408   \n",
       "F                  0.082772 -0.483317 -0.283469 -0.409355  0.152408  1.000000   \n",
       "HDT_0.455©         0.397865 -0.075879  0.283601  0.216989 -0.847753 -0.223736   \n",
       "UTS(Mpa)           0.277509  0.224980  0.483073 -0.072525 -0.582966 -0.494452   \n",
       "Modulus(Gpa)       0.171885  0.176723  0.529866 -0.182274 -0.373463 -0.426866   \n",
       "EAB%              -0.100986 -0.252744 -0.266409 -0.324280  0.423548  0.652801   \n",
       "Viscosity_75C(cp)  0.169325 -0.231460 -0.469052 -0.507404  0.261792  0.872767   \n",
       "R value            0.298667 -0.024213 -0.288603  0.455150 -0.468332 -0.118898   \n",
       "log_HDT            0.386127 -0.071165  0.262593  0.215209 -0.823467 -0.210840   \n",
       "log_viscosity      0.115538 -0.207477 -0.468406 -0.507091  0.290623  0.882946   \n",
       "\n",
       "                   HDT_0.455©  UTS(Mpa)  Modulus(Gpa)      EAB%  \\\n",
       "A                    0.397865  0.277509      0.171885 -0.100986   \n",
       "B                   -0.075879  0.224980      0.176723 -0.252744   \n",
       "C                    0.283601  0.483073      0.529866 -0.266409   \n",
       "D                    0.216989 -0.072525     -0.182274 -0.324280   \n",
       "E                   -0.847753 -0.582966     -0.373463  0.423548   \n",
       "F                   -0.223736 -0.494452     -0.426866  0.652801   \n",
       "HDT_0.455©           1.000000  0.562374      0.227366 -0.530347   \n",
       "UTS(Mpa)             0.562374  1.000000      0.494524 -0.451088   \n",
       "Modulus(Gpa)         0.227366  0.494524      1.000000 -0.404942   \n",
       "EAB%                -0.530347 -0.451088     -0.404942  1.000000   \n",
       "Viscosity_75C(cp)   -0.202402 -0.425615     -0.411822  0.586948   \n",
       "R value              0.752849  0.273968     -0.030854 -0.368770   \n",
       "log_HDT              0.990305  0.576664      0.174575 -0.525292   \n",
       "log_viscosity       -0.244031 -0.455883     -0.421111  0.587064   \n",
       "\n",
       "                   Viscosity_75C(cp)   R value   log_HDT  log_viscosity  \n",
       "A                           0.169325  0.298667  0.386127       0.115538  \n",
       "B                          -0.231460 -0.024213 -0.071165      -0.207477  \n",
       "C                          -0.469052 -0.288603  0.262593      -0.468406  \n",
       "D                          -0.507404  0.455150  0.215209      -0.507091  \n",
       "E                           0.261792 -0.468332 -0.823467       0.290623  \n",
       "F                           0.872767 -0.118898 -0.210840       0.882946  \n",
       "HDT_0.455©                 -0.202402  0.752849  0.990305      -0.244031  \n",
       "UTS(Mpa)                   -0.425615  0.273968  0.576664      -0.455883  \n",
       "Modulus(Gpa)               -0.411822 -0.030854  0.174575      -0.421111  \n",
       "EAB%                        0.586948 -0.368770 -0.525292       0.587064  \n",
       "Viscosity_75C(cp)           1.000000 -0.021768 -0.181925       0.984495  \n",
       "R value                    -0.021768  1.000000  0.727406      -0.061662  \n",
       "log_HDT                    -0.181925  0.727406  1.000000      -0.221918  \n",
       "log_viscosity               0.984495 -0.061662 -0.221918       1.000000  "
      ]
     },
     "execution_count": 9,
     "metadata": {},
     "output_type": "execute_result"
    }
   ],
   "source": [
    "data.corr()"
   ]
  },
  {
   "cell_type": "code",
   "execution_count": null,
   "metadata": {},
   "outputs": [],
   "source": []
  },
  {
   "cell_type": "code",
   "execution_count": 10,
   "metadata": {},
   "outputs": [
    {
     "data": {
      "text/plain": [
       "<Axes: xlabel='R value', ylabel='Count'>"
      ]
     },
     "execution_count": 10,
     "metadata": {},
     "output_type": "execute_result"
    },
    {
     "data": {
      "image/png": "[encoded data removed]",
      "text/plain": [
       "<Figure size 1500x1500 with 6 Axes>"
      ]
     },
     "metadata": {},
     "output_type": "display_data"
    }
   ],
   "source": [
    "fig,axes = plt.subplots(2,3,figsize=(15,15))\n",
    "sns.histplot(data['HDT_0.455©'],ax=axes[0][0])\n",
    "sns.histplot(data['UTS(Mpa)'],ax=axes[0][1])\n",
    "sns.histplot(data['Modulus(Gpa)'],ax=axes[0][2])\n",
    "sns.histplot(data['EAB%'],ax=axes[1][0])\n",
    "sns.histplot(data['Viscosity_75C(cp)'],ax=axes[1][1])\n",
    "sns.histplot(data['R value'],ax=axes[1][2])"
   ]
  },
  {
   "cell_type": "code",
   "execution_count": 11,
   "metadata": {},
   "outputs": [],
   "source": [
    "# Let's transform 'HDT' with a log transformation\n",
    "log_UTS = np.log(data['UTS(Mpa)'])\n",
    "log_modulus = np.log(data['Modulus(Gpa)'])\n",
    "log_eab = np.log(data['EAB%'])\n",
    "log_r = np.log(data['R value'])\n",
    "\n",
    "# Then we add it to our data frame\n",
    "data['log_UTS'] = log_UTS\n",
    "data['log_modulus'] = log_modulus\n",
    "data['log_eab'] = log_eab\n",
    "data['log_r'] = log_r\n"
   ]
  },
  {
   "cell_type": "code",
   "execution_count": 12,
   "metadata": {},
   "outputs": [
    {
     "data": {
      "text/plain": [
       "<Axes: xlabel='log_r', ylabel='Count'>"
      ]
     },
     "execution_count": 12,
     "metadata": {},
     "output_type": "execute_result"
    },
    {
     "data": {
      "image/png": "[encoded data removed]",
      "text/plain": [
       "<Figure size 1500x1500 with 6 Axes>"
      ]
     },
     "metadata": {},
     "output_type": "display_data"
    }
   ],
   "source": [
    "fig,axes = plt.subplots(2,3,figsize=(15,15))\n",
    "sns.histplot(data['log_HDT'],ax=axes[0][0])\n",
    "sns.histplot(data['log_UTS'],ax=axes[0][1])\n",
    "sns.histplot(data['log_modulus'],ax=axes[0][2])\n",
    "sns.histplot(data['log_eab'],ax=axes[1][0])\n",
    "sns.histplot(data['log_viscosity'],ax=axes[1][1])\n",
    "sns.histplot(data['log_r'],ax=axes[1][2])"
   ]
  },
  {
   "cell_type": "code",
   "execution_count": 13,
   "metadata": {},
   "outputs": [],
   "source": [
    "x = data[['A','B','C','D','E','F']]\n",
    "y = data[['log_HDT','log_UTS','log_modulus','log_eab','log_viscosity','log_r']]\n"
   ]
  },
  {
   "cell_type": "code",
   "execution_count": 14,
   "metadata": {},
   "outputs": [],
   "source": [
    "scaler = StandardScaler()"
   ]
  },
  {
   "cell_type": "code",
   "execution_count": 15,
   "metadata": {},
   "outputs": [],
   "source": [
    "scaler.fit(x)\n",
    "x_scaled = scaler.transform(x)"
   ]
  },
  {
   "cell_type": "code",
   "execution_count": 16,
   "metadata": {},
   "outputs": [],
   "source": [
    "from sklearn.model_selection import train_test_split"
   ]
  },
  {
   "cell_type": "code",
   "execution_count": 17,
   "metadata": {},
   "outputs": [],
   "source": [
    "x_train,x_test,y_train,y_test = train_test_split(x_scaled,y,test_size=0.3, random_state=42)"
   ]
  },
  {
   "cell_type": "code",
   "execution_count": 18,
   "metadata": {},
   "outputs": [],
   "source": [
    "reg = LinearRegression()"
   ]
  },
  {
   "cell_type": "code",
   "execution_count": 19,
   "metadata": {},
   "outputs": [
    {
     "data": {
      "text/html": [
       "<style>#sk-container-id-1 {color: black;background-color: white;}#sk-container-id-1 pre{padding: 0;}#sk-container-id-1 div.sk-toggleable {background-color: white;}#sk-container-id-1 label.sk-toggleable__label {cursor: pointer;display: block;width: 100%;margin-bottom: 0;padding: 0.3em;box-sizing: border-box;text-align: center;}#sk-container-id-1 label.sk-toggleable__label-arrow:before {content: \"▸\";float: left;margin-right: 0.25em;color: #696969;}#sk-container-id-1 label.sk-toggleable__label-arrow:hover:before {color: black;}#sk-container-id-1 div.sk-estimator:hover label.sk-toggleable__label-arrow:before {color: black;}#sk-container-id-1 div.sk-toggleable__content {max-height: 0;max-width: 0;overflow: hidden;text-align: left;background-color: #f0f8ff;}#sk-container-id-1 div.sk-toggleable__content pre {margin: 0.2em;color: black;border-radius: 0.25em;background-color: #f0f8ff;}#sk-container-id-1 input.sk-toggleable__control:checked~div.sk-toggleable__content {max-height: 200px;max-width: 100%;overflow: auto;}#sk-container-id-1 input.sk-toggleable__control:checked~label.sk-toggleable__label-arrow:before {content: \"▾\";}#sk-container-id-1 div.sk-estimator input.sk-toggleable__control:checked~label.sk-toggleable__label {background-color: #d4ebff;}#sk-container-id-1 div.sk-label input.sk-toggleable__control:checked~label.sk-toggleable__label {background-color: #d4ebff;}#sk-container-id-1 input.sk-hidden--visually {border: 0;clip: rect(1px 1px 1px 1px);clip: rect(1px, 1px, 1px, 1px);height: 1px;margin: -1px;overflow: hidden;padding: 0;position: absolute;width: 1px;}#sk-container-id-1 div.sk-estimator {font-family: monospace;background-color: #f0f8ff;border: 1px dotted black;border-radius: 0.25em;box-sizing: border-box;margin-bottom: 0.5em;}#sk-container-id-1 div.sk-estimator:hover {background-color: #d4ebff;}#sk-container-id-1 div.sk-parallel-item::after {content: \"\";width: 100%;border-bottom: 1px solid gray;flex-grow: 1;}#sk-container-id-1 div.sk-label:hover label.sk-toggleable__label {background-color: #d4ebff;}#sk-container-id-1 div.sk-serial::before {content: \"\";position: absolute;border-left: 1px solid gray;box-sizing: border-box;top: 0;bottom: 0;left: 50%;z-index: 0;}#sk-container-id-1 div.sk-serial {display: flex;flex-direction: column;align-items: center;background-color: white;padding-right: 0.2em;padding-left: 0.2em;position: relative;}#sk-container-id-1 div.sk-item {position: relative;z-index: 1;}#sk-container-id-1 div.sk-parallel {display: flex;align-items: stretch;justify-content: center;background-color: white;position: relative;}#sk-container-id-1 div.sk-item::before, #sk-container-id-1 div.sk-parallel-item::before {content: \"\";position: absolute;border-left: 1px solid gray;box-sizing: border-box;top: 0;bottom: 0;left: 50%;z-index: -1;}#sk-container-id-1 div.sk-parallel-item {display: flex;flex-direction: column;z-index: 1;position: relative;background-color: white;}#sk-container-id-1 div.sk-parallel-item:first-child::after {align-self: flex-end;width: 50%;}#sk-container-id-1 div.sk-parallel-item:last-child::after {align-self: flex-start;width: 50%;}#sk-container-id-1 div.sk-parallel-item:only-child::after {width: 0;}#sk-container-id-1 div.sk-dashed-wrapped {border: 1px dashed gray;margin: 0 0.4em 0.5em 0.4em;box-sizing: border-box;padding-bottom: 0.4em;background-color: white;}#sk-container-id-1 div.sk-label label {font-family: monospace;font-weight: bold;display: inline-block;line-height: 1.2em;}#sk-container-id-1 div.sk-label-container {text-align: center;}#sk-container-id-1 div.sk-container {/* jupyter's `normalize.less` sets `[hidden] { display: none; }` but bootstrap.min.css set `[hidden] { display: none !important; }` so we also need the `!important` here to be able to override the default hidden behavior on the sphinx rendered scikit-learn.org. See: https://github.com/scikit-learn/scikit-learn/issues/21755 */display: inline-block !important;position: relative;}#sk-container-id-1 div.sk-text-repr-fallback {display: none;}</style><div id=\"sk-container-id-1\" class=\"sk-top-container\"><div class=\"sk-text-repr-fallback\"><pre>LinearRegression()</pre><b>In a Jupyter environment, please rerun this cell to show the HTML representation or trust the notebook. <br />On GitHub, the HTML representation is unable to render, please try loading this page with nbviewer.org.</b></div><div class=\"sk-container\" hidden><div class=\"sk-item\"><div class=\"sk-estimator sk-toggleable\"><input class=\"sk-toggleable__control sk-hidden--visually\" id=\"sk-estimator-id-1\" type=\"checkbox\" checked><label for=\"sk-estimator-id-1\" class=\"sk-toggleable__label sk-toggleable__label-arrow\">LinearRegression</label><div class=\"sk-toggleable__content\"><pre>LinearRegression()</pre></div></div></div></div></div>"
      ],
      "text/plain": [
       "LinearRegression()"
      ]
     },
     "execution_count": 19,
     "metadata": {},
     "output_type": "execute_result"
    }
   ],
   "source": [
    "reg.fit(x_train,y_train)"
   ]
  },
  {
   "cell_type": "code",
   "execution_count": 20,
   "metadata": {},
   "outputs": [],
   "source": [
    "yhat = reg.predict(x_train)"
   ]
  },
  {
   "cell_type": "code",
   "execution_count": 21,
   "metadata": {},
   "outputs": [
    {
     "data": {
      "text/plain": [
       "<function matplotlib.pyplot.show(close=None, block=None)>"
      ]
     },
     "execution_count": 21,
     "metadata": {},
     "output_type": "execute_result"
    },
    {
     "data": {
      "image/png": "[encoded data removed]",
      "text/plain": [
       "<Figure size 640x480 with 1 Axes>"
      ]
     },
     "metadata": {},
     "output_type": "display_data"
    }
   ],
   "source": [
    "plt.scatter(y_train,yhat)\n",
    "plt.xlabel('Measured', size=18)\n",
    "plt.ylabel('Predicted ', size=18)\n",
    "plt.show"
   ]
  },
  {
   "cell_type": "code",
   "execution_count": 22,
   "metadata": {},
   "outputs": [
    {
     "name": "stderr",
     "output_type": "stream",
     "text": [
      "C:\\Users\\apmle\\AppData\\Local\\Temp\\ipykernel_35708\\3638381213.py:1: UserWarning: \n",
      "\n",
      "`distplot` is a deprecated function and will be removed in seaborn v0.14.0.\n",
      "\n",
      "Please adapt your code to use either `displot` (a figure-level function with\n",
      "similar flexibility) or `histplot` (an axes-level function for histograms).\n",
      "\n",
      "For a guide to updating your code to use the new functions, please see\n",
      "https://gist.github.com/mwaskom/de44147ed2974457ad6372750bbe5751\n",
      "\n",
      "  sns.distplot(y_train - yhat)\n"
     ]
    },
    {
     "data": {
      "text/plain": [
       "Text(0.5, 1.0, 'Residuals PDF')"
      ]
     },
     "execution_count": 22,
     "metadata": {},
     "output_type": "execute_result"
    },
    {
     "data": {
      "image/png": "[encoded data removed]",
      "text/plain": [
       "<Figure size 640x480 with 1 Axes>"
      ]
     },
     "metadata": {},
     "output_type": "display_data"
    }
   ],
   "source": [
    "sns.distplot(y_train - yhat)\n",
    "plt.title('Residuals PDF', size=18)"
   ]
  },
  {
   "cell_type": "code",
   "execution_count": 23,
   "metadata": {},
   "outputs": [
    {
     "data": {
      "text/plain": [
       "0.7753268802536621"
      ]
     },
     "execution_count": 23,
     "metadata": {},
     "output_type": "execute_result"
    }
   ],
   "source": [
    "r2= reg.score(x_train,y_train)\n",
    "r2"
   ]
  },
  {
   "cell_type": "code",
   "execution_count": 24,
   "metadata": {},
   "outputs": [
    {
     "data": {
      "text/plain": [
       "array([[ 11.38620584,  10.61062404,  10.99900715,  11.39290103,\n",
       "          7.92390627,  10.70766995],\n",
       "       [  2.7623295 ,   2.58493972,   2.68567956,   2.72960377,\n",
       "          1.90780513,   2.54572122],\n",
       "       [-16.2349467 , -15.19230241, -15.87813087, -16.33022401,\n",
       "        -11.70976013, -15.4492745 ],\n",
       "       [ 82.9351807 ,  77.61503963,  81.41338891,  83.24798594,\n",
       "         60.00642454,  78.97291638],\n",
       "       [-12.33419716, -11.47329088, -12.23538717, -12.48183145,\n",
       "         -8.93271296, -11.39542789],\n",
       "       [  0.56823285,   0.51392059,   0.31984083,   0.58064006,\n",
       "          0.16640809,   0.47529263]])"
      ]
     },
     "execution_count": 24,
     "metadata": {},
     "output_type": "execute_result"
    }
   ],
   "source": [
    "reg.coef_"
   ]
  },
  {
   "cell_type": "code",
   "execution_count": 25,
   "metadata": {},
   "outputs": [
    {
     "data": {
      "text/plain": [
       "array([4.63623946, 3.97558407, 0.74313134, 2.07613108, 2.52798771,\n",
       "       1.15456121])"
      ]
     },
     "execution_count": 25,
     "metadata": {},
     "output_type": "execute_result"
    }
   ],
   "source": [
    "reg.intercept_"
   ]
  },
  {
   "cell_type": "code",
   "execution_count": 26,
   "metadata": {},
   "outputs": [
    {
     "data": {
      "text/plain": [
       "0.7630719828129529"
      ]
     },
     "execution_count": 26,
     "metadata": {},
     "output_type": "execute_result"
    }
   ],
   "source": [
    "x.shape\n",
    "n = x.shape[0]\n",
    "p = x.shape[1]\n",
    "\n",
    "adjusted_r2 = 1-(1-r2)*(n-1)/(n-p-1)\n",
    "adjusted_r2"
   ]
  },
  {
   "cell_type": "code",
   "execution_count": 27,
   "metadata": {},
   "outputs": [],
   "source": [
    "y_hat_test = reg.predict(x_test)"
   ]
  },
  {
   "cell_type": "code",
   "execution_count": 28,
   "metadata": {},
   "outputs": [
    {
     "data": {
      "image/png": "[encoded data removed]",
      "text/plain": [
       "<Figure size 640x480 with 1 Axes>"
      ]
     },
     "metadata": {},
     "output_type": "display_data"
    }
   ],
   "source": [
    "plt.scatter(y_test,y_hat_test)\n",
    "plt.xlabel('Measured', size=18)\n",
    "plt.ylabel('Predicted', size=18)\n",
    "plt.show()"
   ]
  },
  {
   "cell_type": "code",
   "execution_count": 29,
   "metadata": {},
   "outputs": [],
   "source": [
    "trial ={'A': [48.15077697,35.28617348,44.18408789], 'B': [6.489742611,12,10],'C': [6.89194729,13.73060825,17.52932487], 'D': [16.71098381,15.50672017,10],'E': [10.06624125,12.54072866,9.2866],'F': [11.69030807,10.93577,9] }\n",
    "\n",
    "\n",
    "\n",
    "# A\tB\tC\tD\tE\tF\n",
    "# 48.15077697\t6.489742611\t6.89194729\t16.71098381\t10.06624125\t11.69030807\n",
    "# 35.28617348\t12\t13.73060825\t15.50672017\t12.54072866\t10.93577\n",
    "# 44.18408789\t10\t17.52932487\t10\t9.2866\t9\n"
   ]
  },
  {
   "cell_type": "code",
   "execution_count": 30,
   "metadata": {},
   "outputs": [],
   "source": [
    "df = pd.DataFrame(trial)"
   ]
  },
  {
   "cell_type": "code",
   "execution_count": 31,
   "metadata": {},
   "outputs": [
    {
     "data": {
      "text/html": [
       "<div>\n",
       "<style scoped>\n",
       "    .dataframe tbody tr th:only-of-type {\n",
       "        vertical-align: middle;\n",
       "    }\n",
       "\n",
       "    .dataframe tbody tr th {\n",
       "        vertical-align: top;\n",
       "    }\n",
       "\n",
       "    .dataframe thead th {\n",
       "        text-align: right;\n",
       "    }\n",
       "</style>\n",
       "<table border=\"1\" class=\"dataframe\">\n",
       "  <thead>\n",
       "    <tr style=\"text-align: right;\">\n",
       "      <th></th>\n",
       "      <th>A</th>\n",
       "      <th>B</th>\n",
       "      <th>C</th>\n",
       "      <th>D</th>\n",
       "      <th>E</th>\n",
       "      <th>F</th>\n",
       "    </tr>\n",
       "  </thead>\n",
       "  <tbody>\n",
       "    <tr>\n",
       "      <th>0</th>\n",
       "      <td>48.150777</td>\n",
       "      <td>6.489743</td>\n",
       "      <td>6.891947</td>\n",
       "      <td>16.710984</td>\n",
       "      <td>10.066241</td>\n",
       "      <td>11.690308</td>\n",
       "    </tr>\n",
       "    <tr>\n",
       "      <th>1</th>\n",
       "      <td>35.286173</td>\n",
       "      <td>12.000000</td>\n",
       "      <td>13.730608</td>\n",
       "      <td>15.506720</td>\n",
       "      <td>12.540729</td>\n",
       "      <td>10.935770</td>\n",
       "    </tr>\n",
       "    <tr>\n",
       "      <th>2</th>\n",
       "      <td>44.184088</td>\n",
       "      <td>10.000000</td>\n",
       "      <td>17.529325</td>\n",
       "      <td>10.000000</td>\n",
       "      <td>9.286600</td>\n",
       "      <td>9.000000</td>\n",
       "    </tr>\n",
       "  </tbody>\n",
       "</table>\n",
       "</div>"
      ],
      "text/plain": [
       "           A          B          C          D          E          F\n",
       "0  48.150777   6.489743   6.891947  16.710984  10.066241  11.690308\n",
       "1  35.286173  12.000000  13.730608  15.506720  12.540729  10.935770\n",
       "2  44.184088  10.000000  17.529325  10.000000   9.286600   9.000000"
      ]
     },
     "execution_count": 31,
     "metadata": {},
     "output_type": "execute_result"
    }
   ],
   "source": [
    "df"
   ]
  },
  {
   "cell_type": "code",
   "execution_count": 32,
   "metadata": {},
   "outputs": [],
   "source": [
    "x2=df"
   ]
  },
  {
   "cell_type": "code",
   "execution_count": 33,
   "metadata": {},
   "outputs": [
    {
     "name": "stderr",
     "output_type": "stream",
     "text": [
      "C:\\Users\\apmle\\AppData\\Local\\Packages\\PythonSoftwareFoundation.Python.3.10_qbz5n2kfra8p0\\LocalCache\\local-packages\\Python310\\site-packages\\sklearn\\base.py:432: UserWarning: X has feature names, but LinearRegression was fitted without feature names\n",
      "  warnings.warn(\n"
     ]
    }
   ],
   "source": [
    "y_hat_test2 = reg.predict(df)"
   ]
  },
  {
   "cell_type": "code",
   "execution_count": 34,
   "metadata": {},
   "outputs": [
    {
     "data": {
      "text/plain": [
       "array([[ 1092.88219133,   266.84810787, -1560.38169756,  7978.68054778,\n",
       "        -1181.87612632,    50.98944066],\n",
       "       [ 1077.89712339,   263.4348029 , -1541.4768891 ,  7884.83429028,\n",
       "        -1168.57020674,    48.05237276],\n",
       "       [ 1090.52095696,   266.87869228, -1557.92868801,  7970.25535243,\n",
       "        -1181.9899465 ,    48.63661059]])"
      ]
     },
     "execution_count": 34,
     "metadata": {},
     "output_type": "execute_result"
    }
   ],
   "source": [
    "y_hat_test2"
   ]
  },
  {
   "cell_type": "code",
   "execution_count": 35,
   "metadata": {},
   "outputs": [],
   "source": [
    "scaler2 = StandardScaler()"
   ]
  },
  {
   "cell_type": "code",
   "execution_count": 36,
   "metadata": {},
   "outputs": [],
   "source": [
    "scaler2.fit(x2)\n",
    "x_scaled2 = scaler.transform(x2)"
   ]
  },
  {
   "cell_type": "code",
   "execution_count": 37,
   "metadata": {},
   "outputs": [],
   "source": [
    "yhat2 = reg.predict(x_scaled2)"
   ]
  },
  {
   "cell_type": "code",
   "execution_count": 38,
   "metadata": {},
   "outputs": [],
   "source": [
    "results = pd.DataFrame(yhat2)"
   ]
  },
  {
   "cell_type": "code",
   "execution_count": 39,
   "metadata": {},
   "outputs": [
    {
     "data": {
      "text/html": [
       "<div>\n",
       "<style scoped>\n",
       "    .dataframe tbody tr th:only-of-type {\n",
       "        vertical-align: middle;\n",
       "    }\n",
       "\n",
       "    .dataframe tbody tr th {\n",
       "        vertical-align: top;\n",
       "    }\n",
       "\n",
       "    .dataframe thead th {\n",
       "        text-align: right;\n",
       "    }\n",
       "</style>\n",
       "<table border=\"1\" class=\"dataframe\">\n",
       "  <thead>\n",
       "    <tr style=\"text-align: right;\">\n",
       "      <th></th>\n",
       "      <th>0</th>\n",
       "      <th>1</th>\n",
       "      <th>2</th>\n",
       "      <th>3</th>\n",
       "      <th>4</th>\n",
       "      <th>5</th>\n",
       "    </tr>\n",
       "  </thead>\n",
       "  <tbody>\n",
       "    <tr>\n",
       "      <th>0</th>\n",
       "      <td>4.801712</td>\n",
       "      <td>3.956732</td>\n",
       "      <td>0.671114</td>\n",
       "      <td>2.191818</td>\n",
       "      <td>3.068628</td>\n",
       "      <td>1.410607</td>\n",
       "    </tr>\n",
       "    <tr>\n",
       "      <th>1</th>\n",
       "      <td>4.445269</td>\n",
       "      <td>3.906098</td>\n",
       "      <td>0.699337</td>\n",
       "      <td>2.535651</td>\n",
       "      <td>2.907443</td>\n",
       "      <td>0.988349</td>\n",
       "    </tr>\n",
       "    <tr>\n",
       "      <th>2</th>\n",
       "      <td>4.618613</td>\n",
       "      <td>4.015059</td>\n",
       "      <td>0.796215</td>\n",
       "      <td>2.231695</td>\n",
       "      <td>2.826315</td>\n",
       "      <td>1.035856</td>\n",
       "    </tr>\n",
       "  </tbody>\n",
       "</table>\n",
       "</div>"
      ],
      "text/plain": [
       "          0         1         2         3         4         5\n",
       "0  4.801712  3.956732  0.671114  2.191818  3.068628  1.410607\n",
       "1  4.445269  3.906098  0.699337  2.535651  2.907443  0.988349\n",
       "2  4.618613  4.015059  0.796215  2.231695  2.826315  1.035856"
      ]
     },
     "execution_count": 39,
     "metadata": {},
     "output_type": "execute_result"
    }
   ],
   "source": [
    "results"
   ]
  },
  {
   "cell_type": "code",
   "execution_count": 40,
   "metadata": {},
   "outputs": [
    {
     "data": {
      "text/plain": [
       "array([[121.71856695,  52.28619027,   1.95641573,   8.95146837,\n",
       "         21.51236295,   4.09844417],\n",
       "       [ 85.22276829,  49.70462784,   2.01241801,  12.62464735,\n",
       "         18.30991443,   2.68679506],\n",
       "       [101.3533314 ,  55.42655733,   2.21713236,   9.31564382,\n",
       "         16.88313865,   2.81751648]])"
      ]
     },
     "execution_count": 40,
     "metadata": {},
     "output_type": "execute_result"
    }
   ],
   "source": [
    "true_data = np.exp(yhat2)\n",
    "true_data"
   ]
  },
  {
   "cell_type": "code",
   "execution_count": 41,
   "metadata": {},
   "outputs": [],
   "source": [
    "results = pd.DataFrame(true_data)"
   ]
  },
  {
   "cell_type": "code",
   "execution_count": 42,
   "metadata": {},
   "outputs": [
    {
     "data": {
      "text/html": [
       "<div>\n",
       "<style scoped>\n",
       "    .dataframe tbody tr th:only-of-type {\n",
       "        vertical-align: middle;\n",
       "    }\n",
       "\n",
       "    .dataframe tbody tr th {\n",
       "        vertical-align: top;\n",
       "    }\n",
       "\n",
       "    .dataframe thead th {\n",
       "        text-align: right;\n",
       "    }\n",
       "</style>\n",
       "<table border=\"1\" class=\"dataframe\">\n",
       "  <thead>\n",
       "    <tr style=\"text-align: right;\">\n",
       "      <th></th>\n",
       "      <th>0</th>\n",
       "      <th>1</th>\n",
       "      <th>2</th>\n",
       "      <th>3</th>\n",
       "      <th>4</th>\n",
       "      <th>5</th>\n",
       "    </tr>\n",
       "  </thead>\n",
       "  <tbody>\n",
       "    <tr>\n",
       "      <th>0</th>\n",
       "      <td>121.718567</td>\n",
       "      <td>52.286190</td>\n",
       "      <td>1.956416</td>\n",
       "      <td>8.951468</td>\n",
       "      <td>21.512363</td>\n",
       "      <td>4.098444</td>\n",
       "    </tr>\n",
       "    <tr>\n",
       "      <th>1</th>\n",
       "      <td>85.222768</td>\n",
       "      <td>49.704628</td>\n",
       "      <td>2.012418</td>\n",
       "      <td>12.624647</td>\n",
       "      <td>18.309914</td>\n",
       "      <td>2.686795</td>\n",
       "    </tr>\n",
       "    <tr>\n",
       "      <th>2</th>\n",
       "      <td>101.353331</td>\n",
       "      <td>55.426557</td>\n",
       "      <td>2.217132</td>\n",
       "      <td>9.315644</td>\n",
       "      <td>16.883139</td>\n",
       "      <td>2.817516</td>\n",
       "    </tr>\n",
       "  </tbody>\n",
       "</table>\n",
       "</div>"
      ],
      "text/plain": [
       "            0          1         2          3          4         5\n",
       "0  121.718567  52.286190  1.956416   8.951468  21.512363  4.098444\n",
       "1   85.222768  49.704628  2.012418  12.624647  18.309914  2.686795\n",
       "2  101.353331  55.426557  2.217132   9.315644  16.883139  2.817516"
      ]
     },
     "execution_count": 42,
     "metadata": {},
     "output_type": "execute_result"
    }
   ],
   "source": [
    "results"
   ]
  },
  {
   "cell_type": "code",
   "execution_count": 43,
   "metadata": {},
   "outputs": [],
   "source": [
    "results.columns=['HDT','UTS','modulus','eab','viscosity','r']"
   ]
  },
  {
   "cell_type": "code",
   "execution_count": 44,
   "metadata": {},
   "outputs": [
    {
     "data": {
      "text/html": [
       "<div>\n",
       "<style scoped>\n",
       "    .dataframe tbody tr th:only-of-type {\n",
       "        vertical-align: middle;\n",
       "    }\n",
       "\n",
       "    .dataframe tbody tr th {\n",
       "        vertical-align: top;\n",
       "    }\n",
       "\n",
       "    .dataframe thead th {\n",
       "        text-align: right;\n",
       "    }\n",
       "</style>\n",
       "<table border=\"1\" class=\"dataframe\">\n",
       "  <thead>\n",
       "    <tr style=\"text-align: right;\">\n",
       "      <th></th>\n",
       "      <th>HDT</th>\n",
       "      <th>UTS</th>\n",
       "      <th>modulus</th>\n",
       "      <th>eab</th>\n",
       "      <th>viscosity</th>\n",
       "      <th>r</th>\n",
       "    </tr>\n",
       "  </thead>\n",
       "  <tbody>\n",
       "    <tr>\n",
       "      <th>0</th>\n",
       "      <td>121.718567</td>\n",
       "      <td>52.286190</td>\n",
       "      <td>1.956416</td>\n",
       "      <td>8.951468</td>\n",
       "      <td>21.512363</td>\n",
       "      <td>4.098444</td>\n",
       "    </tr>\n",
       "    <tr>\n",
       "      <th>1</th>\n",
       "      <td>85.222768</td>\n",
       "      <td>49.704628</td>\n",
       "      <td>2.012418</td>\n",
       "      <td>12.624647</td>\n",
       "      <td>18.309914</td>\n",
       "      <td>2.686795</td>\n",
       "    </tr>\n",
       "    <tr>\n",
       "      <th>2</th>\n",
       "      <td>101.353331</td>\n",
       "      <td>55.426557</td>\n",
       "      <td>2.217132</td>\n",
       "      <td>9.315644</td>\n",
       "      <td>16.883139</td>\n",
       "      <td>2.817516</td>\n",
       "    </tr>\n",
       "  </tbody>\n",
       "</table>\n",
       "</div>"
      ],
      "text/plain": [
       "          HDT        UTS   modulus        eab  viscosity         r\n",
       "0  121.718567  52.286190  1.956416   8.951468  21.512363  4.098444\n",
       "1   85.222768  49.704628  2.012418  12.624647  18.309914  2.686795\n",
       "2  101.353331  55.426557  2.217132   9.315644  16.883139  2.817516"
      ]
     },
     "execution_count": 44,
     "metadata": {},
     "output_type": "execute_result"
    }
   ],
   "source": [
    "results"
   ]
  },
  {
   "cell_type": "code",
   "execution_count": 45,
   "metadata": {},
   "outputs": [],
   "source": [
    "trial_final = pd.concat([df, results], axis=1)"
   ]
  },
  {
   "cell_type": "code",
   "execution_count": 46,
   "metadata": {},
   "outputs": [
    {
     "data": {
      "text/html": [
       "<div>\n",
       "<style scoped>\n",
       "    .dataframe tbody tr th:only-of-type {\n",
       "        vertical-align: middle;\n",
       "    }\n",
       "\n",
       "    .dataframe tbody tr th {\n",
       "        vertical-align: top;\n",
       "    }\n",
       "\n",
       "    .dataframe thead th {\n",
       "        text-align: right;\n",
       "    }\n",
       "</style>\n",
       "<table border=\"1\" class=\"dataframe\">\n",
       "  <thead>\n",
       "    <tr style=\"text-align: right;\">\n",
       "      <th></th>\n",
       "      <th>A</th>\n",
       "      <th>B</th>\n",
       "      <th>C</th>\n",
       "      <th>D</th>\n",
       "      <th>E</th>\n",
       "      <th>F</th>\n",
       "      <th>HDT</th>\n",
       "      <th>UTS</th>\n",
       "      <th>modulus</th>\n",
       "      <th>eab</th>\n",
       "      <th>viscosity</th>\n",
       "      <th>r</th>\n",
       "    </tr>\n",
       "  </thead>\n",
       "  <tbody>\n",
       "    <tr>\n",
       "      <th>0</th>\n",
       "      <td>48.150777</td>\n",
       "      <td>6.489743</td>\n",
       "      <td>6.891947</td>\n",
       "      <td>16.710984</td>\n",
       "      <td>10.066241</td>\n",
       "      <td>11.690308</td>\n",
       "      <td>121.718567</td>\n",
       "      <td>52.286190</td>\n",
       "      <td>1.956416</td>\n",
       "      <td>8.951468</td>\n",
       "      <td>21.512363</td>\n",
       "      <td>4.098444</td>\n",
       "    </tr>\n",
       "    <tr>\n",
       "      <th>1</th>\n",
       "      <td>35.286173</td>\n",
       "      <td>12.000000</td>\n",
       "      <td>13.730608</td>\n",
       "      <td>15.506720</td>\n",
       "      <td>12.540729</td>\n",
       "      <td>10.935770</td>\n",
       "      <td>85.222768</td>\n",
       "      <td>49.704628</td>\n",
       "      <td>2.012418</td>\n",
       "      <td>12.624647</td>\n",
       "      <td>18.309914</td>\n",
       "      <td>2.686795</td>\n",
       "    </tr>\n",
       "    <tr>\n",
       "      <th>2</th>\n",
       "      <td>44.184088</td>\n",
       "      <td>10.000000</td>\n",
       "      <td>17.529325</td>\n",
       "      <td>10.000000</td>\n",
       "      <td>9.286600</td>\n",
       "      <td>9.000000</td>\n",
       "      <td>101.353331</td>\n",
       "      <td>55.426557</td>\n",
       "      <td>2.217132</td>\n",
       "      <td>9.315644</td>\n",
       "      <td>16.883139</td>\n",
       "      <td>2.817516</td>\n",
       "    </tr>\n",
       "  </tbody>\n",
       "</table>\n",
       "</div>"
      ],
      "text/plain": [
       "           A          B          C          D          E          F  \\\n",
       "0  48.150777   6.489743   6.891947  16.710984  10.066241  11.690308   \n",
       "1  35.286173  12.000000  13.730608  15.506720  12.540729  10.935770   \n",
       "2  44.184088  10.000000  17.529325  10.000000   9.286600   9.000000   \n",
       "\n",
       "          HDT        UTS   modulus        eab  viscosity         r  \n",
       "0  121.718567  52.286190  1.956416   8.951468  21.512363  4.098444  \n",
       "1   85.222768  49.704628  2.012418  12.624647  18.309914  2.686795  \n",
       "2  101.353331  55.426557  2.217132   9.315644  16.883139  2.817516  "
      ]
     },
     "execution_count": 46,
     "metadata": {},
     "output_type": "execute_result"
    }
   ],
   "source": [
    "trial_final"
   ]
  },
  {
   "cell_type": "code",
   "execution_count": 47,
   "metadata": {},
   "outputs": [],
   "source": [
    "trial_final.to_csv('To_test.csv')"
   ]
  },
  {
   "cell_type": "code",
   "execution_count": null,
   "metadata": {},
   "outputs": [],
   "source": []
  }
 ],
 "metadata": {
  "kernelspec": {
   "display_name": "Python 3",
   "language": "python",
   "name": "python3"
  },
  "language_info": {
   "codemirror_mode": {
    "name": "ipython",
    "version": 3
   },
   "file_extension": ".py",
   "mimetype": "text/x-python",
   "name": "python",
   "nbconvert_exporter": "python",
   "pygments_lexer": "ipython3",
   "version": "3.10.11"
  },
  "orig_nbformat": 4
 },
 "nbformat": 4,
 "nbformat_minor": 2
}
